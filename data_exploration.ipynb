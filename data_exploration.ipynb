{
 "cells": [
  {
   "cell_type": "code",
   "execution_count": null,
   "metadata": {},
   "outputs": [],
   "source": [
    "from dataset_train import FetalBrainDataset, preprocess\n",
    "from torchvision.utils import make_grid\n",
    "from torchvision.io import read_image\n",
    "from matplotlib import pyplot as plt\n",
    "import torchsummary\n",
    "from network import UNet\n",
    "import torch"
   ]
  },
  {
   "cell_type": "code",
   "execution_count": null,
   "metadata": {},
   "outputs": [],
   "source": [
    "images_folder = 'data/testing_data/images/'\n",
    "masks_folder = 'data/test_results'\n",
    "masks_folder_gt = 'data/testing_data/masks/'\n",
    "dataset = FetalBrainDataset(images_folder, masks_folder, img_size=224)\n",
    "dataset_gt = FetalBrainDataset(images_folder, masks_folder_gt, img_size=224)"
   ]
  },
  {
   "cell_type": "code",
   "execution_count": null,
   "metadata": {},
   "outputs": [],
   "source": [
    "model = UNet()\n",
    "model.load_state_dict(torch.load('models/model_checkpoint_epoch_0.pt'))"
   ]
  },
  {
   "cell_type": "code",
   "execution_count": null,
   "metadata": {},
   "outputs": [],
   "source": [
    "model.eval()\n",
    "output_img = model(dataset[0][0].unsqueeze(0)).squeeze()"
   ]
  },
  {
   "cell_type": "code",
   "execution_count": 57,
   "metadata": {},
   "outputs": [
    {
     "name": "stdout",
     "output_type": "stream",
     "text": [
      "torch.Size([1, 1, 224, 224])\n",
      "torch.Size([1, 1, 224, 224])\n",
      "torch.Size([1, 1, 224, 224])\n",
      "torch.Size([1, 1, 224, 224])\n",
      "torch.Size([1, 1, 224, 224])\n",
      "torch.Size([1, 1, 224, 224])\n",
      "torch.Size([1, 1, 224, 224])\n",
      "torch.Size([1, 1, 224, 224])\n",
      "torch.Size([1, 1, 224, 224])\n",
      "torch.Size([1, 1, 224, 224])\n",
      "torch.Size([1, 1, 224, 224])\n",
      "torch.Size([1, 1, 224, 224])\n"
     ]
    }
   ],
   "source": [
    "import torchio as tio\n",
    "import numpy as np\n",
    "image = tio.ScalarImage(\"data/testing_data/images/img_0000.nii.gz\")\n",
    "prediction = np.zeros(image.shape[1:])\n",
    "\n",
    "for test_data_idx in range(image.shape[-1]):\n",
    "    img_array = tio.ScalarImage(tensor=image.data[:, :, :, None, test_data_idx].float(),\n",
    "                                affine=image.affine)\n",
    "\n",
    "    img_array = preprocess(img_array, img_size=224, intensity=True)\n",
    "    inputs = img_array['data'][:, None, :, :, 0]\n",
    "    outputs = model(inputs)\n",
    "    outputs = torch.argmax(torch.softmax(outputs, dim=1), dim=1)\n",
    "\n",
    "    label_array = tio.LabelMap(tensor=outputs[:, :, :, None].cpu().long(), affine=img_array.affine)\n",
    "    label_array = preprocess(label_array, img_size=image.shape[1], intensity=False)\n",
    "\n",
    "    out = label_array['data'].squeeze().cpu().detach().numpy()\n",
    "    prediction[:, :, test_data_idx] = out"
   ]
  },
  {
   "cell_type": "code",
   "execution_count": null,
   "metadata": {},
   "outputs": [],
   "source": [
    "prediction.shape"
   ]
  },
  {
   "cell_type": "code",
   "execution_count": null,
   "metadata": {},
   "outputs": [],
   "source": [
    "for img in image:\n",
    "    img = img.squeeze()\n",
    "    plt.imshow(img,'cmap=gray')\n",
    "    plt.show()"
   ]
  },
  {
   "cell_type": "code",
   "execution_count": null,
   "metadata": {},
   "outputs": [],
   "source": [
    "img1, img2 = output_img\n",
    "img1 = img1.detach().numpy()\n",
    "img2 = img2.detach().numpy()\n",
    "plt.imshow(img1,cmap='gray')\n",
    "plt.show()\n",
    "plt.imshow(img2,cmap='gray')\n",
    "plt.show()"
   ]
  },
  {
   "cell_type": "code",
   "execution_count": null,
   "metadata": {},
   "outputs": [],
   "source": [
    "img1.shape"
   ]
  },
  {
   "cell_type": "code",
   "execution_count": null,
   "metadata": {},
   "outputs": [],
   "source": [
    "idx = 0\n",
    "image, label = dataset[idx]\n",
    "_, label_gt = dataset_gt[idx]\n",
    "image_numpy = image.squeeze().numpy()\n",
    "mask_numpy = label.squeeze().numpy()\n",
    "label_gt_numpy = label_gt.squeeze().numpy()\n",
    "plt.imshow(image_numpy, cmap='gray')\n",
    "plt.show()\n",
    "plt.imshow(mask_numpy, cmap='gray')\n",
    "plt.show()\n",
    "plt.imshow(label_gt_numpy, cmap='gray')\n",
    "plt.show()"
   ]
  },
  {
   "cell_type": "code",
   "execution_count": null,
   "metadata": {},
   "outputs": [],
   "source": []
  }
 ],
 "metadata": {
  "kernelspec": {
   "display_name": "Python 3",
   "language": "python",
   "name": "python3"
  },
  "language_info": {
   "codemirror_mode": {
    "name": "ipython",
    "version": 3
   },
   "file_extension": ".py",
   "mimetype": "text/x-python",
   "name": "python",
   "nbconvert_exporter": "python",
   "pygments_lexer": "ipython3",
   "version": "3.10.11"
  },
  "orig_nbformat": 4
 },
 "nbformat": 4,
 "nbformat_minor": 2
}
